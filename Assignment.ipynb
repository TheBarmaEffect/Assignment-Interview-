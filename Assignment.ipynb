{
  "nbformat": 4,
  "nbformat_minor": 0,
  "metadata": {
    "colab": {
      "provenance": [],
      "gpuType": "T4",
      "include_colab_link": true
    },
    "kernelspec": {
      "name": "python3",
      "display_name": "Python 3"
    },
    "language_info": {
      "name": "python"
    },
    "accelerator": "GPU"
  },
  "cells": [
    {
      "cell_type": "markdown",
      "metadata": {
        "id": "view-in-github",
        "colab_type": "text"
      },
      "source": [
        "<a href=\"https://colab.research.google.com/github/TheBarmaEffect/Assignment-Interview-/blob/main/Assignment.ipynb\" target=\"_parent\"><img src=\"https://colab.research.google.com/assets/colab-badge.svg\" alt=\"Open In Colab\"/></a>"
      ]
    },
    {
      "cell_type": "code",
      "execution_count": 6,
      "metadata": {
        "id": "sBKDK2zZkE1J"
      },
      "outputs": [],
      "source": [
        "import pandas as pd\n",
        "from sklearn.model_selection import train_test_split, cross_val_score\n",
        "from sklearn.pipeline import Pipeline\n",
        "from sklearn.compose import ColumnTransformer\n",
        "from sklearn.impute import SimpleImputer\n",
        "from sklearn.preprocessing import StandardScaler, OneHotEncoder, LabelEncoder\n",
        "from sklearn.ensemble import RandomForestClassifier, GradientBoostingClassifier\n",
        "from sklearn.linear_model import LogisticRegression\n",
        "from sklearn.svm import SVC\n",
        "from sklearn.metrics import accuracy_score, confusion_matrix, classification_report\n",
        "from sklearn.model_selection import GridSearchCV\n"
      ]
    },
    {
      "cell_type": "code",
      "source": [
        "from google.colab import drive\n",
        "drive.mount('/content/drive')"
      ],
      "metadata": {
        "colab": {
          "base_uri": "https://localhost:8080/"
        },
        "id": "yQg8SLlSkd_k",
        "outputId": "ed0b9cf4-f66f-446c-d401-a4b31e681062"
      },
      "execution_count": 7,
      "outputs": [
        {
          "output_type": "stream",
          "name": "stdout",
          "text": [
            "Drive already mounted at /content/drive; to attempt to forcibly remount, call drive.mount(\"/content/drive\", force_remount=True).\n"
          ]
        }
      ]
    },
    {
      "cell_type": "code",
      "source": [
        "# Load the datasets\n",
        "train_data = pd.read_csv('/content/drive/MyDrive/Colab Notebooks/Assignment_Train.csv')\n",
        "test_data = pd.read_csv('/content/drive/MyDrive/Colab Notebooks/Assignment_Test.csv')\n",
        "\n",
        "# Separate features and target variable\n",
        "y_train = train_data['Application Status']\n",
        "X_train = train_data.drop(columns=['Application Status'])\n",
        "X_test = test_data.copy()\n"
      ],
      "metadata": {
        "id": "vTqTCqhvkP1J"
      },
      "execution_count": 8,
      "outputs": []
    },
    {
      "cell_type": "code",
      "source": [
        "def convert_date_columns(df):\n",
        "    if 'APPLICATION LOGIN DATE' in df.columns:\n",
        "        df['APPLICATION LOGIN DATE'] = pd.to_datetime(df['APPLICATION LOGIN DATE'], infer_datetime_format=True, errors='coerce')\n",
        "        df['APPLICATION LOGIN YEAR'] = df['APPLICATION LOGIN DATE'].dt.year\n",
        "        df['APPLICATION LOGIN MONTH'] = df['APPLICATION LOGIN DATE'].dt.month\n",
        "        df['APPLICATION LOGIN DAY'] = df['APPLICATION LOGIN DATE'].dt.day\n",
        "        df.drop(columns=['APPLICATION LOGIN DATE'], inplace=True)\n",
        "\n",
        "    if 'DOB' in df.columns:\n",
        "        df['DOB'] = pd.to_datetime(df['DOB'], infer_datetime_format=True, errors='coerce')\n",
        "        df['DOB YEAR'] = df['DOB'].dt.year\n",
        "        df['DOB MONTH'] = df['DOB'].dt.month\n",
        "        df['DOB DAY'] = df['DOB'].dt.day\n",
        "        df.drop(columns=['DOB'], inplace=True)\n",
        "\n",
        "# Apply the conversion to both datasets\n",
        "convert_date_columns(X_train)\n",
        "convert_date_columns(X_test)\n"
      ],
      "metadata": {
        "colab": {
          "base_uri": "https://localhost:8080/"
        },
        "id": "5-9_ce8zkpem",
        "outputId": "f2ee14c5-c5c9-4933-9f67-533dcd0f2877"
      },
      "execution_count": 9,
      "outputs": [
        {
          "output_type": "stream",
          "name": "stderr",
          "text": [
            "<ipython-input-9-b1da6d206138>:3: UserWarning: The argument 'infer_datetime_format' is deprecated and will be removed in a future version. A strict version of it is now the default, see https://pandas.pydata.org/pdeps/0004-consistent-to-datetime-parsing.html. You can safely remove this argument.\n",
            "  df['APPLICATION LOGIN DATE'] = pd.to_datetime(df['APPLICATION LOGIN DATE'], infer_datetime_format=True, errors='coerce')\n",
            "<ipython-input-9-b1da6d206138>:10: UserWarning: The argument 'infer_datetime_format' is deprecated and will be removed in a future version. A strict version of it is now the default, see https://pandas.pydata.org/pdeps/0004-consistent-to-datetime-parsing.html. You can safely remove this argument.\n",
            "  df['DOB'] = pd.to_datetime(df['DOB'], infer_datetime_format=True, errors='coerce')\n",
            "<ipython-input-9-b1da6d206138>:3: UserWarning: The argument 'infer_datetime_format' is deprecated and will be removed in a future version. A strict version of it is now the default, see https://pandas.pydata.org/pdeps/0004-consistent-to-datetime-parsing.html. You can safely remove this argument.\n",
            "  df['APPLICATION LOGIN DATE'] = pd.to_datetime(df['APPLICATION LOGIN DATE'], infer_datetime_format=True, errors='coerce')\n",
            "<ipython-input-9-b1da6d206138>:3: UserWarning: Could not infer format, so each element will be parsed individually, falling back to `dateutil`. To ensure parsing is consistent and as-expected, please specify a format.\n",
            "  df['APPLICATION LOGIN DATE'] = pd.to_datetime(df['APPLICATION LOGIN DATE'], infer_datetime_format=True, errors='coerce')\n",
            "<ipython-input-9-b1da6d206138>:10: UserWarning: The argument 'infer_datetime_format' is deprecated and will be removed in a future version. A strict version of it is now the default, see https://pandas.pydata.org/pdeps/0004-consistent-to-datetime-parsing.html. You can safely remove this argument.\n",
            "  df['DOB'] = pd.to_datetime(df['DOB'], infer_datetime_format=True, errors='coerce')\n"
          ]
        }
      ]
    },
    {
      "cell_type": "code",
      "source": [
        "numeric_features = X_train.select_dtypes(include=['number']).columns.tolist()\n",
        "categorical_features = X_train.select_dtypes(include=['object']).columns.tolist()\n"
      ],
      "metadata": {
        "id": "1X3L2VyPkrUG"
      },
      "execution_count": 10,
      "outputs": []
    },
    {
      "cell_type": "code",
      "source": [
        "# Numeric transformation pipeline\n",
        "numeric_transformer = Pipeline(steps=[\n",
        "    ('imputer', SimpleImputer(strategy='mean')),\n",
        "    ('scaler', StandardScaler())\n",
        "])\n",
        "\n",
        "# Categorical transformation pipeline\n",
        "categorical_transformer = Pipeline(steps=[\n",
        "    ('imputer', SimpleImputer(strategy='most_frequent')),\n",
        "    ('onehot', OneHotEncoder(handle_unknown='ignore'))\n",
        "])\n",
        "\n",
        "# Combine numeric and categorical transformers\n",
        "preprocessor = ColumnTransformer(\n",
        "    transformers=[\n",
        "        ('num', numeric_transformer, numeric_features),\n",
        "        ('cat', categorical_transformer, categorical_features)\n",
        "    ])\n"
      ],
      "metadata": {
        "id": "4hTHcHtfkxo3"
      },
      "execution_count": 11,
      "outputs": []
    },
    {
      "cell_type": "code",
      "source": [
        "# List of models to evaluate\n",
        "models = {\n",
        "    'Random Forest': RandomForestClassifier(n_estimators=100, random_state=42),\n",
        "    'Gradient Boosting': GradientBoostingClassifier(n_estimators=100, random_state=42),\n",
        "    'Logistic Regression': LogisticRegression(max_iter=1000, random_state=42),\n",
        "    'Support Vector Machine': SVC(kernel='linear', probability=True, random_state=42)\n",
        "}\n"
      ],
      "metadata": {
        "id": "9XMn5A65k1po"
      },
      "execution_count": 12,
      "outputs": []
    },
    {
      "cell_type": "code",
      "source": [
        "results = {}\n",
        "for model_name, model in models.items():\n",
        "    # Create a pipeline that combines preprocessing and the model\n",
        "    clf = Pipeline(steps=[('preprocessor', preprocessor),\n",
        "                          ('classifier', model)])\n",
        "\n",
        "    # Perform cross-validation\n",
        "    cv_scores = cross_val_score(clf, X_train, y_train, cv=5)\n",
        "    results[model_name] = cv_scores.mean()\n",
        "    print(f'{model_name} - Cross-validation Accuracy: {cv_scores.mean():.4f}')\n",
        "\n",
        "# Identify the best model\n",
        "best_model_name = max(results, key=results.get)\n",
        "best_model = models[best_model_name]\n",
        "print(f'Best model: {best_model_name} with accuracy {results[best_model_name]:.4f}')\n"
      ],
      "metadata": {
        "colab": {
          "base_uri": "https://localhost:8080/"
        },
        "id": "hV11LObdk3Pl",
        "outputId": "370df70b-ea42-4368-9cae-7515d798d330"
      },
      "execution_count": 13,
      "outputs": [
        {
          "output_type": "stream",
          "name": "stderr",
          "text": [
            "/usr/local/lib/python3.10/dist-packages/sklearn/impute/_base.py:558: UserWarning: Skipping features without any observed values: ['Phone Social Premium.a23games']. At least one non-missing value is needed for imputation with strategy='mean'.\n",
            "  warnings.warn(\n",
            "/usr/local/lib/python3.10/dist-packages/sklearn/impute/_base.py:558: UserWarning: Skipping features without any observed values: ['Phone Social Premium.a23games']. At least one non-missing value is needed for imputation with strategy='mean'.\n",
            "  warnings.warn(\n",
            "/usr/local/lib/python3.10/dist-packages/sklearn/impute/_base.py:558: UserWarning: Skipping features without any observed values: ['Phone Social Premium.rummycircle']. At least one non-missing value is needed for imputation with strategy='mean'.\n",
            "  warnings.warn(\n",
            "/usr/local/lib/python3.10/dist-packages/sklearn/impute/_base.py:558: UserWarning: Skipping features without any observed values: ['Phone Social Premium.rummycircle']. At least one non-missing value is needed for imputation with strategy='mean'.\n",
            "  warnings.warn(\n"
          ]
        },
        {
          "output_type": "stream",
          "name": "stdout",
          "text": [
            "Random Forest - Cross-validation Accuracy: 0.8427\n"
          ]
        },
        {
          "output_type": "stream",
          "name": "stderr",
          "text": [
            "/usr/local/lib/python3.10/dist-packages/sklearn/impute/_base.py:558: UserWarning: Skipping features without any observed values: ['Phone Social Premium.a23games']. At least one non-missing value is needed for imputation with strategy='mean'.\n",
            "  warnings.warn(\n",
            "/usr/local/lib/python3.10/dist-packages/sklearn/impute/_base.py:558: UserWarning: Skipping features without any observed values: ['Phone Social Premium.a23games']. At least one non-missing value is needed for imputation with strategy='mean'.\n",
            "  warnings.warn(\n",
            "/usr/local/lib/python3.10/dist-packages/sklearn/impute/_base.py:558: UserWarning: Skipping features without any observed values: ['Phone Social Premium.rummycircle']. At least one non-missing value is needed for imputation with strategy='mean'.\n",
            "  warnings.warn(\n",
            "/usr/local/lib/python3.10/dist-packages/sklearn/impute/_base.py:558: UserWarning: Skipping features without any observed values: ['Phone Social Premium.rummycircle']. At least one non-missing value is needed for imputation with strategy='mean'.\n",
            "  warnings.warn(\n"
          ]
        },
        {
          "output_type": "stream",
          "name": "stdout",
          "text": [
            "Gradient Boosting - Cross-validation Accuracy: 0.8442\n"
          ]
        },
        {
          "output_type": "stream",
          "name": "stderr",
          "text": [
            "/usr/local/lib/python3.10/dist-packages/sklearn/impute/_base.py:558: UserWarning: Skipping features without any observed values: ['Phone Social Premium.a23games']. At least one non-missing value is needed for imputation with strategy='mean'.\n",
            "  warnings.warn(\n",
            "/usr/local/lib/python3.10/dist-packages/sklearn/impute/_base.py:558: UserWarning: Skipping features without any observed values: ['Phone Social Premium.a23games']. At least one non-missing value is needed for imputation with strategy='mean'.\n",
            "  warnings.warn(\n",
            "/usr/local/lib/python3.10/dist-packages/sklearn/impute/_base.py:558: UserWarning: Skipping features without any observed values: ['Phone Social Premium.rummycircle']. At least one non-missing value is needed for imputation with strategy='mean'.\n",
            "  warnings.warn(\n",
            "/usr/local/lib/python3.10/dist-packages/sklearn/impute/_base.py:558: UserWarning: Skipping features without any observed values: ['Phone Social Premium.rummycircle']. At least one non-missing value is needed for imputation with strategy='mean'.\n",
            "  warnings.warn(\n"
          ]
        },
        {
          "output_type": "stream",
          "name": "stdout",
          "text": [
            "Logistic Regression - Cross-validation Accuracy: 0.8632\n"
          ]
        },
        {
          "output_type": "stream",
          "name": "stderr",
          "text": [
            "/usr/local/lib/python3.10/dist-packages/sklearn/impute/_base.py:558: UserWarning: Skipping features without any observed values: ['Phone Social Premium.a23games']. At least one non-missing value is needed for imputation with strategy='mean'.\n",
            "  warnings.warn(\n",
            "/usr/local/lib/python3.10/dist-packages/sklearn/impute/_base.py:558: UserWarning: Skipping features without any observed values: ['Phone Social Premium.a23games']. At least one non-missing value is needed for imputation with strategy='mean'.\n",
            "  warnings.warn(\n",
            "/usr/local/lib/python3.10/dist-packages/sklearn/impute/_base.py:558: UserWarning: Skipping features without any observed values: ['Phone Social Premium.rummycircle']. At least one non-missing value is needed for imputation with strategy='mean'.\n",
            "  warnings.warn(\n",
            "/usr/local/lib/python3.10/dist-packages/sklearn/impute/_base.py:558: UserWarning: Skipping features without any observed values: ['Phone Social Premium.rummycircle']. At least one non-missing value is needed for imputation with strategy='mean'.\n",
            "  warnings.warn(\n"
          ]
        },
        {
          "output_type": "stream",
          "name": "stdout",
          "text": [
            "Support Vector Machine - Cross-validation Accuracy: 0.8574\n",
            "Best model: Logistic Regression with accuracy 0.8632\n"
          ]
        }
      ]
    },
    {
      "cell_type": "code",
      "source": [
        "# Train the best model on the entire training data\n",
        "clf = Pipeline(steps=[('preprocessor', preprocessor),\n",
        "                      ('classifier', best_model)])\n",
        "\n",
        "clf.fit(X_train, y_train)\n"
      ],
      "metadata": {
        "colab": {
          "base_uri": "https://localhost:8080/",
          "height": 224
        },
        "id": "v8Ad2EBXoCT_",
        "outputId": "4557fd99-6240-44f3-859b-e80d4a8ccddb"
      },
      "execution_count": 14,
      "outputs": [
        {
          "output_type": "execute_result",
          "data": {
            "text/plain": [
              "Pipeline(steps=[('preprocessor',\n",
              "                 ColumnTransformer(transformers=[('num',\n",
              "                                                  Pipeline(steps=[('imputer',\n",
              "                                                                   SimpleImputer()),\n",
              "                                                                  ('scaler',\n",
              "                                                                   StandardScaler())]),\n",
              "                                                  ['DEALER ID', 'mobile',\n",
              "                                                   'TOTAL ASSET COST',\n",
              "                                                   'ASSET MODEL NO',\n",
              "                                                   'APPLIED AMOUNT', 'AGE',\n",
              "                                                   'Phone Social '\n",
              "                                                   'Premium.a23games',\n",
              "                                                   'Phone Social '\n",
              "                                                   'Premium.amazon',\n",
              "                                                   'Phone Social Premium.byjus',\n",
              "                                                   'Phone Social '\n",
              "                                                   'Premium.flipkart',\n",
              "                                                   'Phone Soc...\n",
              "                                                   'AADHAR VERIFIED',\n",
              "                                                   'Cibil Score', 'DEALER NAME',\n",
              "                                                   'ASSET CTG',\n",
              "                                                   'PRIMARY ASSET MAKE',\n",
              "                                                   'Primary Asset Model No',\n",
              "                                                   'Personal Email Address',\n",
              "                                                   'MARITAL STATUS', 'GENDER',\n",
              "                                                   'ADDRESS TYPE',\n",
              "                                                   'EMPLOY CONSTITUTION',\n",
              "                                                   'EMPLOYER NAME',\n",
              "                                                   'EMPLOYER TYPE', 'Pan Name',\n",
              "                                                   'name', 'vpa', 'upi_name',\n",
              "                                                   'phone_phoneFootprintStrengthOverall'])])),\n",
              "                ('classifier',\n",
              "                 LogisticRegression(max_iter=1000, random_state=42))])"
            ],
            "text/html": [
              "<style>#sk-container-id-1 {color: black;}#sk-container-id-1 pre{padding: 0;}#sk-container-id-1 div.sk-toggleable {background-color: white;}#sk-container-id-1 label.sk-toggleable__label {cursor: pointer;display: block;width: 100%;margin-bottom: 0;padding: 0.3em;box-sizing: border-box;text-align: center;}#sk-container-id-1 label.sk-toggleable__label-arrow:before {content: \"▸\";float: left;margin-right: 0.25em;color: #696969;}#sk-container-id-1 label.sk-toggleable__label-arrow:hover:before {color: black;}#sk-container-id-1 div.sk-estimator:hover label.sk-toggleable__label-arrow:before {color: black;}#sk-container-id-1 div.sk-toggleable__content {max-height: 0;max-width: 0;overflow: hidden;text-align: left;background-color: #f0f8ff;}#sk-container-id-1 div.sk-toggleable__content pre {margin: 0.2em;color: black;border-radius: 0.25em;background-color: #f0f8ff;}#sk-container-id-1 input.sk-toggleable__control:checked~div.sk-toggleable__content {max-height: 200px;max-width: 100%;overflow: auto;}#sk-container-id-1 input.sk-toggleable__control:checked~label.sk-toggleable__label-arrow:before {content: \"▾\";}#sk-container-id-1 div.sk-estimator input.sk-toggleable__control:checked~label.sk-toggleable__label {background-color: #d4ebff;}#sk-container-id-1 div.sk-label input.sk-toggleable__control:checked~label.sk-toggleable__label {background-color: #d4ebff;}#sk-container-id-1 input.sk-hidden--visually {border: 0;clip: rect(1px 1px 1px 1px);clip: rect(1px, 1px, 1px, 1px);height: 1px;margin: -1px;overflow: hidden;padding: 0;position: absolute;width: 1px;}#sk-container-id-1 div.sk-estimator {font-family: monospace;background-color: #f0f8ff;border: 1px dotted black;border-radius: 0.25em;box-sizing: border-box;margin-bottom: 0.5em;}#sk-container-id-1 div.sk-estimator:hover {background-color: #d4ebff;}#sk-container-id-1 div.sk-parallel-item::after {content: \"\";width: 100%;border-bottom: 1px solid gray;flex-grow: 1;}#sk-container-id-1 div.sk-label:hover label.sk-toggleable__label {background-color: #d4ebff;}#sk-container-id-1 div.sk-serial::before {content: \"\";position: absolute;border-left: 1px solid gray;box-sizing: border-box;top: 0;bottom: 0;left: 50%;z-index: 0;}#sk-container-id-1 div.sk-serial {display: flex;flex-direction: column;align-items: center;background-color: white;padding-right: 0.2em;padding-left: 0.2em;position: relative;}#sk-container-id-1 div.sk-item {position: relative;z-index: 1;}#sk-container-id-1 div.sk-parallel {display: flex;align-items: stretch;justify-content: center;background-color: white;position: relative;}#sk-container-id-1 div.sk-item::before, #sk-container-id-1 div.sk-parallel-item::before {content: \"\";position: absolute;border-left: 1px solid gray;box-sizing: border-box;top: 0;bottom: 0;left: 50%;z-index: -1;}#sk-container-id-1 div.sk-parallel-item {display: flex;flex-direction: column;z-index: 1;position: relative;background-color: white;}#sk-container-id-1 div.sk-parallel-item:first-child::after {align-self: flex-end;width: 50%;}#sk-container-id-1 div.sk-parallel-item:last-child::after {align-self: flex-start;width: 50%;}#sk-container-id-1 div.sk-parallel-item:only-child::after {width: 0;}#sk-container-id-1 div.sk-dashed-wrapped {border: 1px dashed gray;margin: 0 0.4em 0.5em 0.4em;box-sizing: border-box;padding-bottom: 0.4em;background-color: white;}#sk-container-id-1 div.sk-label label {font-family: monospace;font-weight: bold;display: inline-block;line-height: 1.2em;}#sk-container-id-1 div.sk-label-container {text-align: center;}#sk-container-id-1 div.sk-container {/* jupyter's `normalize.less` sets `[hidden] { display: none; }` but bootstrap.min.css set `[hidden] { display: none !important; }` so we also need the `!important` here to be able to override the default hidden behavior on the sphinx rendered scikit-learn.org. See: https://github.com/scikit-learn/scikit-learn/issues/21755 */display: inline-block !important;position: relative;}#sk-container-id-1 div.sk-text-repr-fallback {display: none;}</style><div id=\"sk-container-id-1\" class=\"sk-top-container\"><div class=\"sk-text-repr-fallback\"><pre>Pipeline(steps=[(&#x27;preprocessor&#x27;,\n",
              "                 ColumnTransformer(transformers=[(&#x27;num&#x27;,\n",
              "                                                  Pipeline(steps=[(&#x27;imputer&#x27;,\n",
              "                                                                   SimpleImputer()),\n",
              "                                                                  (&#x27;scaler&#x27;,\n",
              "                                                                   StandardScaler())]),\n",
              "                                                  [&#x27;DEALER ID&#x27;, &#x27;mobile&#x27;,\n",
              "                                                   &#x27;TOTAL ASSET COST&#x27;,\n",
              "                                                   &#x27;ASSET MODEL NO&#x27;,\n",
              "                                                   &#x27;APPLIED AMOUNT&#x27;, &#x27;AGE&#x27;,\n",
              "                                                   &#x27;Phone Social &#x27;\n",
              "                                                   &#x27;Premium.a23games&#x27;,\n",
              "                                                   &#x27;Phone Social &#x27;\n",
              "                                                   &#x27;Premium.amazon&#x27;,\n",
              "                                                   &#x27;Phone Social Premium.byjus&#x27;,\n",
              "                                                   &#x27;Phone Social &#x27;\n",
              "                                                   &#x27;Premium.flipkart&#x27;,\n",
              "                                                   &#x27;Phone Soc...\n",
              "                                                   &#x27;AADHAR VERIFIED&#x27;,\n",
              "                                                   &#x27;Cibil Score&#x27;, &#x27;DEALER NAME&#x27;,\n",
              "                                                   &#x27;ASSET CTG&#x27;,\n",
              "                                                   &#x27;PRIMARY ASSET MAKE&#x27;,\n",
              "                                                   &#x27;Primary Asset Model No&#x27;,\n",
              "                                                   &#x27;Personal Email Address&#x27;,\n",
              "                                                   &#x27;MARITAL STATUS&#x27;, &#x27;GENDER&#x27;,\n",
              "                                                   &#x27;ADDRESS TYPE&#x27;,\n",
              "                                                   &#x27;EMPLOY CONSTITUTION&#x27;,\n",
              "                                                   &#x27;EMPLOYER NAME&#x27;,\n",
              "                                                   &#x27;EMPLOYER TYPE&#x27;, &#x27;Pan Name&#x27;,\n",
              "                                                   &#x27;name&#x27;, &#x27;vpa&#x27;, &#x27;upi_name&#x27;,\n",
              "                                                   &#x27;phone_phoneFootprintStrengthOverall&#x27;])])),\n",
              "                (&#x27;classifier&#x27;,\n",
              "                 LogisticRegression(max_iter=1000, random_state=42))])</pre><b>In a Jupyter environment, please rerun this cell to show the HTML representation or trust the notebook. <br />On GitHub, the HTML representation is unable to render, please try loading this page with nbviewer.org.</b></div><div class=\"sk-container\" hidden><div class=\"sk-item sk-dashed-wrapped\"><div class=\"sk-label-container\"><div class=\"sk-label sk-toggleable\"><input class=\"sk-toggleable__control sk-hidden--visually\" id=\"sk-estimator-id-1\" type=\"checkbox\" ><label for=\"sk-estimator-id-1\" class=\"sk-toggleable__label sk-toggleable__label-arrow\">Pipeline</label><div class=\"sk-toggleable__content\"><pre>Pipeline(steps=[(&#x27;preprocessor&#x27;,\n",
              "                 ColumnTransformer(transformers=[(&#x27;num&#x27;,\n",
              "                                                  Pipeline(steps=[(&#x27;imputer&#x27;,\n",
              "                                                                   SimpleImputer()),\n",
              "                                                                  (&#x27;scaler&#x27;,\n",
              "                                                                   StandardScaler())]),\n",
              "                                                  [&#x27;DEALER ID&#x27;, &#x27;mobile&#x27;,\n",
              "                                                   &#x27;TOTAL ASSET COST&#x27;,\n",
              "                                                   &#x27;ASSET MODEL NO&#x27;,\n",
              "                                                   &#x27;APPLIED AMOUNT&#x27;, &#x27;AGE&#x27;,\n",
              "                                                   &#x27;Phone Social &#x27;\n",
              "                                                   &#x27;Premium.a23games&#x27;,\n",
              "                                                   &#x27;Phone Social &#x27;\n",
              "                                                   &#x27;Premium.amazon&#x27;,\n",
              "                                                   &#x27;Phone Social Premium.byjus&#x27;,\n",
              "                                                   &#x27;Phone Social &#x27;\n",
              "                                                   &#x27;Premium.flipkart&#x27;,\n",
              "                                                   &#x27;Phone Soc...\n",
              "                                                   &#x27;AADHAR VERIFIED&#x27;,\n",
              "                                                   &#x27;Cibil Score&#x27;, &#x27;DEALER NAME&#x27;,\n",
              "                                                   &#x27;ASSET CTG&#x27;,\n",
              "                                                   &#x27;PRIMARY ASSET MAKE&#x27;,\n",
              "                                                   &#x27;Primary Asset Model No&#x27;,\n",
              "                                                   &#x27;Personal Email Address&#x27;,\n",
              "                                                   &#x27;MARITAL STATUS&#x27;, &#x27;GENDER&#x27;,\n",
              "                                                   &#x27;ADDRESS TYPE&#x27;,\n",
              "                                                   &#x27;EMPLOY CONSTITUTION&#x27;,\n",
              "                                                   &#x27;EMPLOYER NAME&#x27;,\n",
              "                                                   &#x27;EMPLOYER TYPE&#x27;, &#x27;Pan Name&#x27;,\n",
              "                                                   &#x27;name&#x27;, &#x27;vpa&#x27;, &#x27;upi_name&#x27;,\n",
              "                                                   &#x27;phone_phoneFootprintStrengthOverall&#x27;])])),\n",
              "                (&#x27;classifier&#x27;,\n",
              "                 LogisticRegression(max_iter=1000, random_state=42))])</pre></div></div></div><div class=\"sk-serial\"><div class=\"sk-item sk-dashed-wrapped\"><div class=\"sk-label-container\"><div class=\"sk-label sk-toggleable\"><input class=\"sk-toggleable__control sk-hidden--visually\" id=\"sk-estimator-id-2\" type=\"checkbox\" ><label for=\"sk-estimator-id-2\" class=\"sk-toggleable__label sk-toggleable__label-arrow\">preprocessor: ColumnTransformer</label><div class=\"sk-toggleable__content\"><pre>ColumnTransformer(transformers=[(&#x27;num&#x27;,\n",
              "                                 Pipeline(steps=[(&#x27;imputer&#x27;, SimpleImputer()),\n",
              "                                                 (&#x27;scaler&#x27;, StandardScaler())]),\n",
              "                                 [&#x27;DEALER ID&#x27;, &#x27;mobile&#x27;, &#x27;TOTAL ASSET COST&#x27;,\n",
              "                                  &#x27;ASSET MODEL NO&#x27;, &#x27;APPLIED AMOUNT&#x27;, &#x27;AGE&#x27;,\n",
              "                                  &#x27;Phone Social Premium.a23games&#x27;,\n",
              "                                  &#x27;Phone Social Premium.amazon&#x27;,\n",
              "                                  &#x27;Phone Social Premium.byjus&#x27;,\n",
              "                                  &#x27;Phone Social Premium.flipkart&#x27;,\n",
              "                                  &#x27;Phone Social Premium.housing&#x27;,\n",
              "                                  &#x27;Phone Social Premiu...\n",
              "                                 [&#x27;HDB BRANCH NAME&#x27;, &#x27;HDB BRANCH STATE&#x27;,\n",
              "                                  &#x27;FIRST NAME&#x27;, &#x27;MIDDLE NAME&#x27;, &#x27;LAST NAME&#x27;,\n",
              "                                  &#x27;AADHAR VERIFIED&#x27;, &#x27;Cibil Score&#x27;,\n",
              "                                  &#x27;DEALER NAME&#x27;, &#x27;ASSET CTG&#x27;,\n",
              "                                  &#x27;PRIMARY ASSET MAKE&#x27;,\n",
              "                                  &#x27;Primary Asset Model No&#x27;,\n",
              "                                  &#x27;Personal Email Address&#x27;, &#x27;MARITAL STATUS&#x27;,\n",
              "                                  &#x27;GENDER&#x27;, &#x27;ADDRESS TYPE&#x27;,\n",
              "                                  &#x27;EMPLOY CONSTITUTION&#x27;, &#x27;EMPLOYER NAME&#x27;,\n",
              "                                  &#x27;EMPLOYER TYPE&#x27;, &#x27;Pan Name&#x27;, &#x27;name&#x27;, &#x27;vpa&#x27;,\n",
              "                                  &#x27;upi_name&#x27;,\n",
              "                                  &#x27;phone_phoneFootprintStrengthOverall&#x27;])])</pre></div></div></div><div class=\"sk-parallel\"><div class=\"sk-parallel-item\"><div class=\"sk-item\"><div class=\"sk-label-container\"><div class=\"sk-label sk-toggleable\"><input class=\"sk-toggleable__control sk-hidden--visually\" id=\"sk-estimator-id-3\" type=\"checkbox\" ><label for=\"sk-estimator-id-3\" class=\"sk-toggleable__label sk-toggleable__label-arrow\">num</label><div class=\"sk-toggleable__content\"><pre>[&#x27;DEALER ID&#x27;, &#x27;mobile&#x27;, &#x27;TOTAL ASSET COST&#x27;, &#x27;ASSET MODEL NO&#x27;, &#x27;APPLIED AMOUNT&#x27;, &#x27;AGE&#x27;, &#x27;Phone Social Premium.a23games&#x27;, &#x27;Phone Social Premium.amazon&#x27;, &#x27;Phone Social Premium.byjus&#x27;, &#x27;Phone Social Premium.flipkart&#x27;, &#x27;Phone Social Premium.housing&#x27;, &#x27;Phone Social Premium.indiamart&#x27;, &#x27;Phone Social Premium.instagram&#x27;, &#x27;Phone Social Premium.isWABusiness&#x27;, &#x27;Phone Social Premium.jeevansaathi&#x27;, &#x27;Phone Social Premium.jiomart&#x27;, &#x27;Phone Social Premium.microsoft&#x27;, &#x27;Phone Social Premium.my11&#x27;, &#x27;Phone Social Premium.paytm&#x27;, &#x27;Phone Social Premium.rummycircle&#x27;, &#x27;Phone Social Premium.shaadi&#x27;, &#x27;Phone Social Premium.skype&#x27;, &#x27;Phone Social Premium.toi&#x27;, &#x27;Phone Social Premium.whatsapp&#x27;, &#x27;Phone Social Premium.yatra&#x27;, &#x27;Phone Social Premium.zoho&#x27;, &#x27;phone_digitalage&#x27;, &#x27;phone_nameMatchScore&#x27;, &#x27;APPLICATION LOGIN YEAR&#x27;, &#x27;APPLICATION LOGIN MONTH&#x27;, &#x27;APPLICATION LOGIN DAY&#x27;, &#x27;DOB YEAR&#x27;, &#x27;DOB MONTH&#x27;, &#x27;DOB DAY&#x27;]</pre></div></div></div><div class=\"sk-serial\"><div class=\"sk-item\"><div class=\"sk-serial\"><div class=\"sk-item\"><div class=\"sk-estimator sk-toggleable\"><input class=\"sk-toggleable__control sk-hidden--visually\" id=\"sk-estimator-id-4\" type=\"checkbox\" ><label for=\"sk-estimator-id-4\" class=\"sk-toggleable__label sk-toggleable__label-arrow\">SimpleImputer</label><div class=\"sk-toggleable__content\"><pre>SimpleImputer()</pre></div></div></div><div class=\"sk-item\"><div class=\"sk-estimator sk-toggleable\"><input class=\"sk-toggleable__control sk-hidden--visually\" id=\"sk-estimator-id-5\" type=\"checkbox\" ><label for=\"sk-estimator-id-5\" class=\"sk-toggleable__label sk-toggleable__label-arrow\">StandardScaler</label><div class=\"sk-toggleable__content\"><pre>StandardScaler()</pre></div></div></div></div></div></div></div></div><div class=\"sk-parallel-item\"><div class=\"sk-item\"><div class=\"sk-label-container\"><div class=\"sk-label sk-toggleable\"><input class=\"sk-toggleable__control sk-hidden--visually\" id=\"sk-estimator-id-6\" type=\"checkbox\" ><label for=\"sk-estimator-id-6\" class=\"sk-toggleable__label sk-toggleable__label-arrow\">cat</label><div class=\"sk-toggleable__content\"><pre>[&#x27;HDB BRANCH NAME&#x27;, &#x27;HDB BRANCH STATE&#x27;, &#x27;FIRST NAME&#x27;, &#x27;MIDDLE NAME&#x27;, &#x27;LAST NAME&#x27;, &#x27;AADHAR VERIFIED&#x27;, &#x27;Cibil Score&#x27;, &#x27;DEALER NAME&#x27;, &#x27;ASSET CTG&#x27;, &#x27;PRIMARY ASSET MAKE&#x27;, &#x27;Primary Asset Model No&#x27;, &#x27;Personal Email Address&#x27;, &#x27;MARITAL STATUS&#x27;, &#x27;GENDER&#x27;, &#x27;ADDRESS TYPE&#x27;, &#x27;EMPLOY CONSTITUTION&#x27;, &#x27;EMPLOYER NAME&#x27;, &#x27;EMPLOYER TYPE&#x27;, &#x27;Pan Name&#x27;, &#x27;name&#x27;, &#x27;vpa&#x27;, &#x27;upi_name&#x27;, &#x27;phone_phoneFootprintStrengthOverall&#x27;]</pre></div></div></div><div class=\"sk-serial\"><div class=\"sk-item\"><div class=\"sk-serial\"><div class=\"sk-item\"><div class=\"sk-estimator sk-toggleable\"><input class=\"sk-toggleable__control sk-hidden--visually\" id=\"sk-estimator-id-7\" type=\"checkbox\" ><label for=\"sk-estimator-id-7\" class=\"sk-toggleable__label sk-toggleable__label-arrow\">SimpleImputer</label><div class=\"sk-toggleable__content\"><pre>SimpleImputer(strategy=&#x27;most_frequent&#x27;)</pre></div></div></div><div class=\"sk-item\"><div class=\"sk-estimator sk-toggleable\"><input class=\"sk-toggleable__control sk-hidden--visually\" id=\"sk-estimator-id-8\" type=\"checkbox\" ><label for=\"sk-estimator-id-8\" class=\"sk-toggleable__label sk-toggleable__label-arrow\">OneHotEncoder</label><div class=\"sk-toggleable__content\"><pre>OneHotEncoder(handle_unknown=&#x27;ignore&#x27;)</pre></div></div></div></div></div></div></div></div></div></div><div class=\"sk-item\"><div class=\"sk-estimator sk-toggleable\"><input class=\"sk-toggleable__control sk-hidden--visually\" id=\"sk-estimator-id-9\" type=\"checkbox\" ><label for=\"sk-estimator-id-9\" class=\"sk-toggleable__label sk-toggleable__label-arrow\">LogisticRegression</label><div class=\"sk-toggleable__content\"><pre>LogisticRegression(max_iter=1000, random_state=42)</pre></div></div></div></div></div></div></div>"
            ]
          },
          "metadata": {},
          "execution_count": 14
        }
      ]
    },
    {
      "cell_type": "code",
      "source": [
        "# Split the data into training and validation sets\n",
        "X_train_split, X_val, y_train_split, y_val = train_test_split(X_train, y_train, test_size=0.2, random_state=42)\n",
        "\n",
        "# Train on the split data\n",
        "clf.fit(X_train_split, y_train_split)\n",
        "\n",
        "# Predict on the validation set\n",
        "y_val_pred = clf.predict(X_val)\n",
        "\n",
        "# Evaluate the model's performance\n",
        "print(\"Validation Accuracy:\", accuracy_score(y_val, y_val_pred))\n",
        "print(\"Confusion Matrix:\\n\", confusion_matrix(y_val, y_val_pred))\n",
        "print(\"Classification Report:\\n\", classification_report(y_val, y_val_pred))\n"
      ],
      "metadata": {
        "colab": {
          "base_uri": "https://localhost:8080/"
        },
        "id": "gRSGa9ShoOXI",
        "outputId": "6d2a9e8d-c7ad-430c-c401-f3a75da4515e"
      },
      "execution_count": 15,
      "outputs": [
        {
          "output_type": "stream",
          "name": "stderr",
          "text": [
            "/usr/local/lib/python3.10/dist-packages/sklearn/impute/_base.py:558: UserWarning: Skipping features without any observed values: ['Phone Social Premium.rummycircle']. At least one non-missing value is needed for imputation with strategy='mean'.\n",
            "  warnings.warn(\n",
            "/usr/local/lib/python3.10/dist-packages/sklearn/impute/_base.py:558: UserWarning: Skipping features without any observed values: ['Phone Social Premium.rummycircle']. At least one non-missing value is needed for imputation with strategy='mean'.\n",
            "  warnings.warn(\n"
          ]
        },
        {
          "output_type": "stream",
          "name": "stdout",
          "text": [
            "Validation Accuracy: 0.865\n",
            "Confusion Matrix:\n",
            " [[1163  164]\n",
            " [ 106  567]]\n",
            "Classification Report:\n",
            "               precision    recall  f1-score   support\n",
            "\n",
            "    APPROVED       0.92      0.88      0.90      1327\n",
            "    DECLINED       0.78      0.84      0.81       673\n",
            "\n",
            "    accuracy                           0.86      2000\n",
            "   macro avg       0.85      0.86      0.85      2000\n",
            "weighted avg       0.87      0.86      0.87      2000\n",
            "\n"
          ]
        }
      ]
    },
    {
      "cell_type": "code",
      "source": [
        "# Predict on the test set\n",
        "test_predictions = clf.predict(X_test)\n",
        "\n",
        "# Prepare the submission file\n",
        "submission = pd.DataFrame({\n",
        "    'UID': test_data['UID'],\n",
        "    'Prediction': test_predictions\n",
        "})\n",
        "\n",
        "# Save the submission file\n",
        "submission.to_csv('/content/drive/MyDrive/Colab Notebooks/predictions.csv', index=False)\n"
      ],
      "metadata": {
        "colab": {
          "base_uri": "https://localhost:8080/"
        },
        "id": "NBlU9xduoj7i",
        "outputId": "9edb9ca2-9d7b-4002-ba23-eff148246653"
      },
      "execution_count": 21,
      "outputs": [
        {
          "output_type": "stream",
          "name": "stderr",
          "text": [
            "/usr/local/lib/python3.10/dist-packages/sklearn/impute/_base.py:558: UserWarning: Skipping features without any observed values: ['Phone Social Premium.rummycircle']. At least one non-missing value is needed for imputation with strategy='mean'.\n",
            "  warnings.warn(\n"
          ]
        }
      ]
    },
    {
      "cell_type": "code",
      "source": [
        "import matplotlib.pyplot as plt\n",
        "import seaborn as sns\n",
        "from sklearn.metrics import confusion_matrix\n",
        "\n",
        "# Assuming y_val and y_val_pred are available from the previous steps\n",
        "\n",
        "# Create the confusion matrix\n",
        "conf_matrix = confusion_matrix(y_val, y_val_pred)\n",
        "\n",
        "# Plot the confusion matrix\n",
        "plt.figure(figsize=(8, 6))\n",
        "sns.heatmap(conf_matrix, annot=True, fmt='d', cmap='Blues', cbar=False,\n",
        "            xticklabels=['Approved', 'Declined'], yticklabels=['Approved', 'Declined'])\n",
        "plt.title('Confusion Matrix')\n",
        "plt.xlabel('Predicted')\n",
        "plt.ylabel('Actual')\n",
        "plt.show()\n",
        "\n"
      ],
      "metadata": {
        "colab": {
          "base_uri": "https://localhost:8080/",
          "height": 520
        },
        "id": "G1INxbuJCiuu",
        "outputId": "bad18752-0cb2-48a8-a80d-b56f1cac17ba"
      },
      "execution_count": 18,
      "outputs": [
        {
          "output_type": "display_data",
          "data": {
            "text/plain": [
              "<Figure size 800x600 with 1 Axes>"
            ],
            "image/png": "[encoded data removed]"
          },
          "metadata": {}
        }
      ]
    },
    {
      "cell_type": "code",
      "source": [
        "from sklearn.metrics import classification_report\n",
        "import pandas as pd\n",
        "import matplotlib.pyplot as plt\n",
        "import seaborn as sns\n",
        "\n",
        "# Assuming y_val and y_val_pred are available\n",
        "\n",
        "# Generate classification report as a dictionary\n",
        "class_report_dict = classification_report(y_val, y_val_pred, output_dict=True)\n",
        "\n",
        "# Convert the dictionary to a DataFrame for easier plotting\n",
        "class_report_df = pd.DataFrame(class_report_dict).transpose()\n",
        "\n",
        "# Plot the classification report\n",
        "plt.figure(figsize=(10, 6))\n",
        "sns.heatmap(class_report_df.iloc[:-1, :-1], annot=True, cmap='Blues', cbar=False)\n",
        "plt.title('Classification Report')\n",
        "plt.xlabel('Metrics')\n",
        "plt.ylabel('Classes')\n",
        "plt.show()\n"
      ],
      "metadata": {
        "colab": {
          "base_uri": "https://localhost:8080/",
          "height": 427
        },
        "id": "DjCmppRHKCTz",
        "outputId": "754e9d3c-e534-4f8a-c6d2-ddb633c8e46d"
      },
      "execution_count": 20,
      "outputs": [
        {
          "output_type": "display_data",
          "data": {
            "text/plain": [
              "<Figure size 1000x600 with 1 Axes>"
            ],
            "image/png": "[encoded data removed]"
          },
          "metadata": {}
        }
      ]
    }
  ]
}