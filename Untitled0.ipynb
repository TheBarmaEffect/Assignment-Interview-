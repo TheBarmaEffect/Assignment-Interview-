{
  "nbformat": 4,
  "nbformat_minor": 0,
  "metadata": {
    "colab": {
      "provenance": [],
      "gpuType": "T4",
      "authorship_tag": "ABX9TyPQUdFCtkYR2B9l68jLdfL8",
      "include_colab_link": true
    },
    "kernelspec": {
      "name": "python3",
      "display_name": "Python 3"
    },
    "language_info": {
      "name": "python"
    },
    "accelerator": "GPU"
  },
  "cells": [
    {
      "cell_type": "markdown",
      "metadata": {
        "id": "view-in-github",
        "colab_type": "text"
      },
      "source": [
        "<a href=\"https://colab.research.google.com/github/TheBarmaEffect/Assignment-Interview-/blob/main/Untitled0.ipynb\" target=\"_parent\"><img src=\"https://colab.research.google.com/assets/colab-badge.svg\" alt=\"Open In Colab\"/></a>"
      ]
    },
    {
      "cell_type": "code",
      "execution_count": 1,
      "metadata": {
        "colab": {
          "base_uri": "https://localhost:8080/",
          "height": 35
        },
        "id": "ouerGK1mU2k4",
        "outputId": "e475b903-f53e-4522-92ae-23d295fda757"
      },
      "outputs": [
        {
          "output_type": "stream",
          "name": "stdout",
          "text": [
            "Predictions have been saved to 'predictions.csv'\n"
          ]
        },
        {
          "output_type": "display_data",
          "data": {
            "text/plain": [
              "<IPython.core.display.Javascript object>"
            ],
            "application/javascript": [
              "\n",
              "    async function download(id, filename, size) {\n",
              "      if (!google.colab.kernel.accessAllowed) {\n",
              "        return;\n",
              "      }\n",
              "      const div = document.createElement('div');\n",
              "      const label = document.createElement('label');\n",
              "      label.textContent = `Downloading \"${filename}\": `;\n",
              "      div.appendChild(label);\n",
              "      const progress = document.createElement('progress');\n",
              "      progress.max = size;\n",
              "      div.appendChild(progress);\n",
              "      document.body.appendChild(div);\n",
              "\n",
              "      const buffers = [];\n",
              "      let downloaded = 0;\n",
              "\n",
              "      const channel = await google.colab.kernel.comms.open(id);\n",
              "      // Send a message to notify the kernel that we're ready.\n",
              "      channel.send({})\n",
              "\n",
              "      for await (const message of channel.messages) {\n",
              "        // Send a message to notify the kernel that we're ready.\n",
              "        channel.send({})\n",
              "        if (message.buffers) {\n",
              "          for (const buffer of message.buffers) {\n",
              "            buffers.push(buffer);\n",
              "            downloaded += buffer.byteLength;\n",
              "            progress.value = downloaded;\n",
              "          }\n",
              "        }\n",
              "      }\n",
              "      const blob = new Blob(buffers, {type: 'application/binary'});\n",
              "      const a = document.createElement('a');\n",
              "      a.href = window.URL.createObjectURL(blob);\n",
              "      a.download = filename;\n",
              "      div.appendChild(a);\n",
              "      a.click();\n",
              "      div.remove();\n",
              "    }\n",
              "  "
            ]
          },
          "metadata": {}
        },
        {
          "output_type": "display_data",
          "data": {
            "text/plain": [
              "<IPython.core.display.Javascript object>"
            ],
            "application/javascript": [
              "download(\"download_e734ba30-cdad-4e36-a9ff-db8ce0bf7ce4\", \"predictions.csv\", 57011)"
            ]
          },
          "metadata": {}
        }
      ],
      "source": [
        "# Import necessary libraries\n",
        "import pandas as pd\n",
        "from sklearn.preprocessing import LabelEncoder\n",
        "from sklearn.ensemble import RandomForestClassifier\n",
        "\n",
        "# Load datasets\n",
        "train_df = pd.read_csv('/content/Assignment_Train.csv')\n",
        "test_df = pd.read_csv('/content/Assignment_Test.csv')\n",
        "\n",
        "# Drop columns with 100% missing data in the test set\n",
        "columns_to_drop = ['Phone Social Premium.a23games', 'Phone Social Premium.my11',\n",
        "                   'Phone Social Premium.rummycircle', 'Phone Social Premium.yatra']\n",
        "train_df_cleaned = train_df.drop(columns=columns_to_drop)\n",
        "test_df_cleaned = test_df.drop(columns=columns_to_drop)\n",
        "\n",
        "# Impute missing values\n",
        "for column in train_df_cleaned.columns:\n",
        "    if train_df_cleaned[column].dtype == 'object':\n",
        "        train_df_cleaned[column].fillna(train_df_cleaned[column].mode()[0], inplace=True)\n",
        "    else:\n",
        "        train_df_cleaned[column].fillna(train_df_cleaned[column].median(), inplace=True)\n",
        "\n",
        "for column in test_df_cleaned.columns:\n",
        "    if test_df_cleaned[column].dtype == 'object':\n",
        "        test_df_cleaned[column].fillna(test_df_cleaned[column].mode()[0], inplace=True)\n",
        "    else:\n",
        "        test_df_cleaned[column].fillna(test_df_cleaned[column].median(), inplace=True)\n",
        "\n",
        "# Prepare target and features\n",
        "X = train_df_cleaned.drop(columns=['Application Status'])\n",
        "y = train_df_cleaned['Application Status']\n",
        "\n",
        "# Encode categorical variables\n",
        "categorical_columns = X.select_dtypes(include=['object']).columns\n",
        "\n",
        "# Label encode binary columns\n",
        "label_encoders = {}\n",
        "for column in categorical_columns:\n",
        "    if X[column].nunique() == 2:\n",
        "        le = LabelEncoder()\n",
        "        X[column] = le.fit_transform(X[column])\n",
        "        test_df_cleaned[column] = le.transform(test_df_cleaned[column])\n",
        "        label_encoders[column] = le\n",
        "\n",
        "# One-hot encode the rest\n",
        "X = pd.get_dummies(X, columns=[col for col in categorical_columns if col not in label_encoders], drop_first=True)\n",
        "test_df_encoded = pd.get_dummies(test_df_cleaned, columns=[col for col in categorical_columns if col not in label_encoders], drop_first=True)\n",
        "\n",
        "# Ensure columns match\n",
        "test_df_encoded = test_df_encoded.reindex(columns=X.columns, fill_value=0)\n",
        "\n",
        "# Train a RandomForestClassifier\n",
        "rf_model = RandomForestClassifier(random_state=42)\n",
        "rf_model.fit(X, y)\n",
        "\n",
        "# Make predictions\n",
        "test_predictions = rf_model.predict(test_df_encoded)\n",
        "\n",
        "# Prepare output file\n",
        "output_df = pd.DataFrame({\n",
        "    'UID': test_df['UID'],\n",
        "    'Prediction': test_predictions\n",
        "})\n",
        "\n",
        "# Save the predictions to a CSV file\n",
        "output_df.to_csv('/content/predictions.csv', index=False)\n",
        "print(\"Predictions have been saved to 'predictions.csv'\")\n",
        "\n",
        "# Download the file if running on Colab\n",
        "from google.colab import files\n",
        "files.download('/content/predictions.csv')\n"
      ]
    }
  ]
}